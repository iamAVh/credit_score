{
  "nbformat": 4,
  "nbformat_minor": 0,
  "metadata": {
    "colab": {
      "provenance": []
    },
    "kernelspec": {
      "name": "python3",
      "display_name": "Python 3"
    },
    "language_info": {
      "name": "python"
    }
  },
  "cells": [
    {
      "cell_type": "code",
      "execution_count": 1,
      "metadata": {
        "colab": {
          "base_uri": "https://localhost:8080/"
        },
        "id": "4q-uSf41fg8K",
        "outputId": "2f86b87f-b8d2-438a-e0d7-f4e41383bf08"
      },
      "outputs": [
        {
          "output_type": "stream",
          "name": "stdout",
          "text": [
            "Requirement already satisfied: gdown in /usr/local/lib/python3.11/dist-packages (5.2.0)\n",
            "Requirement already satisfied: beautifulsoup4 in /usr/local/lib/python3.11/dist-packages (from gdown) (4.13.4)\n",
            "Requirement already satisfied: filelock in /usr/local/lib/python3.11/dist-packages (from gdown) (3.18.0)\n",
            "Requirement already satisfied: requests[socks] in /usr/local/lib/python3.11/dist-packages (from gdown) (2.32.3)\n",
            "Requirement already satisfied: tqdm in /usr/local/lib/python3.11/dist-packages (from gdown) (4.67.1)\n",
            "Requirement already satisfied: soupsieve>1.2 in /usr/local/lib/python3.11/dist-packages (from beautifulsoup4->gdown) (2.7)\n",
            "Requirement already satisfied: typing-extensions>=4.0.0 in /usr/local/lib/python3.11/dist-packages (from beautifulsoup4->gdown) (4.14.1)\n",
            "Requirement already satisfied: charset-normalizer<4,>=2 in /usr/local/lib/python3.11/dist-packages (from requests[socks]->gdown) (3.4.2)\n",
            "Requirement already satisfied: idna<4,>=2.5 in /usr/local/lib/python3.11/dist-packages (from requests[socks]->gdown) (3.10)\n",
            "Requirement already satisfied: urllib3<3,>=1.21.1 in /usr/local/lib/python3.11/dist-packages (from requests[socks]->gdown) (2.5.0)\n",
            "Requirement already satisfied: certifi>=2017.4.17 in /usr/local/lib/python3.11/dist-packages (from requests[socks]->gdown) (2025.7.14)\n",
            "Requirement already satisfied: PySocks!=1.5.7,>=1.5.6 in /usr/local/lib/python3.11/dist-packages (from requests[socks]->gdown) (1.7.1)\n"
          ]
        }
      ],
      "source": [
        "pip install gdown\n"
      ]
    },
    {
      "cell_type": "code",
      "source": [
        "import gdown\n",
        "\n",
        "# Google Drive shared file ID\n",
        "file_id = \"1ISFbAXxadMrt7Zl96rmzzZmEKZnyW7FS\"\n",
        "url = f\"https://drive.google.com/uc?id={file_id}\"\n",
        "\n",
        "# Download\n",
        "output_file = \"user_transactions.json\"\n",
        "gdown.download(url, output_file, quiet=False)\n"
      ],
      "metadata": {
        "colab": {
          "base_uri": "https://localhost:8080/",
          "height": 107
        },
        "id": "lWdbeBHugZ9e",
        "outputId": "5dff89da-ea34-4332-cbb2-f85fa64c76c2"
      },
      "execution_count": 2,
      "outputs": [
        {
          "output_type": "stream",
          "name": "stderr",
          "text": [
            "Downloading...\n",
            "From: https://drive.google.com/uc?id=1ISFbAXxadMrt7Zl96rmzzZmEKZnyW7FS\n",
            "To: /content/user_transactions.json\n",
            "100%|██████████| 91.2M/91.2M [00:00<00:00, 99.9MB/s]\n"
          ]
        },
        {
          "output_type": "execute_result",
          "data": {
            "text/plain": [
              "'user_transactions.json'"
            ],
            "application/vnd.google.colaboratory.intrinsic+json": {
              "type": "string"
            }
          },
          "metadata": {},
          "execution_count": 2
        }
      ]
    },
    {
      "cell_type": "code",
      "source": [
        "import json\n",
        "\n",
        "# Load JSON file\n",
        "with open(\"user_transactions.json\", \"r\") as f:\n",
        "    data = json.load(f)\n",
        "\n",
        "# Print high-level structure\n",
        "print(f\"Type: {type(data)}\")\n",
        "print(f\"Total records: {len(data)}\")\n",
        "\n",
        "# Print first item\n",
        "import pprint\n",
        "pprint.pprint(data[0], depth=3)\n"
      ],
      "metadata": {
        "colab": {
          "base_uri": "https://localhost:8080/"
        },
        "id": "5VIVlhRMgoOH",
        "outputId": "8b384b8a-5c47-4382-bab0-ddbebe20f61e"
      },
      "execution_count": 3,
      "outputs": [
        {
          "output_type": "stream",
          "name": "stdout",
          "text": [
            "Type: <class 'list'>\n",
            "Total records: 100000\n",
            "{'__v': 0,\n",
            " '_id': {'$oid': '681d38fed63812d4655f571a'},\n",
            " 'action': 'deposit',\n",
            " 'actionData': {'amount': '2000000000',\n",
            "                'assetPriceUSD': '0.9938318274296357543568636362026045',\n",
            "                'assetSymbol': 'USDC',\n",
            "                'poolId': '0x2791bca1f2de4661ed88a30c99a7a9449aa84174',\n",
            "                'type': 'Deposit',\n",
            "                'userId': '0x00000000001accfa9cef68cf5371a23025b6d4b6'},\n",
            " 'blockNumber': 1629178166,\n",
            " 'createdAt': {'$date': '2025-05-08T23:06:39.465Z'},\n",
            " 'logId': '0x695c69acf608fbf5d38e48ca5535e118cc213a89e3d6d2e66e6b0e3b2e8d4190_Deposit',\n",
            " 'network': 'polygon',\n",
            " 'protocol': 'aave_v2',\n",
            " 'timestamp': 1629178166,\n",
            " 'txHash': '0x695c69acf608fbf5d38e48ca5535e118cc213a89e3d6d2e66e6b0e3b2e8d4190',\n",
            " 'updatedAt': {'$date': '2025-05-08T23:06:39.465Z'},\n",
            " 'userWallet': '0x00000000001accfa9cef68cf5371a23025b6d4b6'}\n"
          ]
        }
      ]
    },
    {
      "cell_type": "code",
      "source": [
        "import csv\n",
        "from collections import defaultdict, Counter\n",
        "from decimal import Decimal\n",
        "from datetime import datetime\n",
        "\n",
        "# Step 1: Group transactions by userWallet\n",
        "wallet_tx_map = defaultdict(list)\n",
        "wallet_time_map = defaultdict(list)\n",
        "\n",
        "for tx in data:\n",
        "    wallet = tx.get(\"userWallet\")\n",
        "    if wallet:\n",
        "        wallet_tx_map[wallet].append(tx)\n",
        "        ts = tx.get(\"timestamp\")\n",
        "        if ts:\n",
        "            wallet_time_map[wallet].append(ts)\n",
        "\n",
        "# Prepare output CSV path\n",
        "output_csv = \"wallet_summary.csv\"\n",
        "\n",
        "# Step 2: Collect all unique action types\n",
        "action_types = set(tx['action'] for tx in data)\n",
        "\n",
        "# Step 3: Build the summary per wallet\n",
        "wallet_summary = []\n",
        "\n",
        "for wallet, tx_list in wallet_tx_map.items():\n",
        "    row = {\n",
        "        'wallet_address': wallet,\n",
        "        'num_transactions': len(tx_list)\n",
        "    }\n",
        "\n",
        "    # Count action types\n",
        "    action_count = Counter(tx['action'] for tx in tx_list)\n",
        "    for action in action_types:\n",
        "        row[f'action_{action}'] = action_count.get(action, 0)\n",
        "\n",
        "    # Estimate USD per action\n",
        "    usd_values = defaultdict(float)\n",
        "    for tx in tx_list:\n",
        "        action = tx['action']\n",
        "        try:\n",
        "            amt = Decimal(tx['actionData']['amount']) / Decimal(1e6)  # USDC 6 decimals\n",
        "            price = Decimal(tx['actionData']['assetPriceUSD'])\n",
        "            usd_values[action] += float(amt * price)\n",
        "        except:\n",
        "            continue\n",
        "\n",
        "    for action in action_types:\n",
        "        row[f'usd_{action}'] = round(usd_values.get(action, 0.0), 2)\n",
        "\n",
        "    # Compute activity times\n",
        "    timestamps = wallet_time_map.get(wallet, [])\n",
        "    if timestamps:\n",
        "        first_ts = min(timestamps)\n",
        "        last_ts = max(timestamps)\n",
        "        active_days = round((last_ts - first_ts) / (60 * 60 * 24), 2)\n",
        "        row['active_days'] = active_days\n",
        "        row['first_seen'] = datetime.utcfromtimestamp(first_ts).strftime('%Y-%m-%d %H:%M:%S')\n",
        "        row['last_seen'] = datetime.utcfromtimestamp(last_ts).strftime('%Y-%m-%d %H:%M:%S')\n",
        "    else:\n",
        "        row['active_days'] = 0\n",
        "        row['first_seen'] = ''\n",
        "        row['last_seen'] = ''\n",
        "\n",
        "    wallet_summary.append(row)\n",
        "\n",
        "# Step 4: Write to CSV\n",
        "fieldnames = ['wallet_address', 'num_transactions']\n",
        "fieldnames += [f'action_{a}' for a in sorted(action_types)]\n",
        "fieldnames += [f'usd_{a}' for a in sorted(action_types)]\n",
        "fieldnames += ['active_days', 'first_seen', 'last_seen']\n",
        "\n",
        "with open(output_csv, \"w\", newline=\"\") as f:\n",
        "    writer = csv.DictWriter(f, fieldnames=fieldnames)\n",
        "    writer.writeheader()\n",
        "    writer.writerows(wallet_summary)\n",
        "\n",
        "print(f\"Saved summary for {len(wallet_summary)} wallets to '{output_csv}'\")\n"
      ],
      "metadata": {
        "colab": {
          "base_uri": "https://localhost:8080/"
        },
        "id": "CziR_znKhgfe",
        "outputId": "497e9e47-b487-4067-c2a3-7181fd9b4b3e"
      },
      "execution_count": 4,
      "outputs": [
        {
          "output_type": "stream",
          "name": "stdout",
          "text": [
            "Saved summary for 3497 wallets to 'wallet_summary.csv'\n"
          ]
        }
      ]
    },
    {
      "cell_type": "code",
      "source": [
        "from collections import defaultdict, Counter\n",
        "from decimal import Decimal\n",
        "from datetime import datetime\n",
        "\n",
        "# Set the wallet address you want to inspect (case-insensitive)\n",
        "target_wallet = \"0x0000000002032370b971dabd36d72f3e5a7bf1ee\".lower()\n",
        "\n",
        "# Filter transactions for the wallet\n",
        "wallet_txs = [tx for tx in data if tx.get(\"userWallet\", \"\").lower() == target_wallet]\n",
        "\n",
        "if not wallet_txs:\n",
        "    print(f\"No transactions found for wallet {target_wallet}\")\n",
        "else:\n",
        "    print(f\"Wallet Address: {target_wallet}\")\n",
        "    print(f\"Total Transactions: {len(wallet_txs)}\")\n",
        "\n",
        "    # Count actions\n",
        "    action_counts = Counter(tx['action'] for tx in wallet_txs)\n",
        "    print(\"\\nAction Breakdown:\")\n",
        "    for action, count in action_counts.items():\n",
        "        print(f\"  {action}: {count} txs\")\n",
        "\n",
        "    # Calculate USD per action\n",
        "    usd_summary = defaultdict(float)\n",
        "\n",
        "    def calc_usd(tx):\n",
        "        try:\n",
        "            amt = Decimal(tx['actionData']['amount']) / Decimal(1e6)\n",
        "            price = Decimal(tx['actionData']['assetPriceUSD'])\n",
        "            return float(amt * price)\n",
        "        except:\n",
        "            return 0.0\n",
        "\n",
        "    for tx in wallet_txs:\n",
        "        action = tx['action']\n",
        "        usd_summary[action] += calc_usd(tx)\n",
        "\n",
        "    print(\"\\nEstimated USD Value per Action:\")\n",
        "    for action, total_usd in usd_summary.items():\n",
        "        print(f\"  {action}: ${total_usd:,.2f}\")\n",
        "\n",
        "    # First and last activity timestamps\n",
        "    timestamps = [tx.get(\"timestamp\") for tx in wallet_txs if \"timestamp\" in tx]\n",
        "    if timestamps:\n",
        "        first_ts = min(timestamps)\n",
        "        last_ts = max(timestamps)\n",
        "\n",
        "        first_time = datetime.utcfromtimestamp(first_ts).strftime(\"%Y-%m-%d %H:%M:%S\")\n",
        "        last_time = datetime.utcfromtimestamp(last_ts).strftime(\"%Y-%m-%d %H:%M:%S\")\n",
        "\n",
        "        print(f\"\\nFirst Activity: {first_time} UTC\")\n",
        "        print(f\"Last Activity:  {last_time} UTC\")\n"
      ],
      "metadata": {
        "colab": {
          "base_uri": "https://localhost:8080/"
        },
        "id": "7M1nlqldk70y",
        "outputId": "ab107dfa-d49b-4e6f-e3fa-d7ac7974c8be"
      },
      "execution_count": 5,
      "outputs": [
        {
          "output_type": "stream",
          "name": "stdout",
          "text": [
            "Wallet Address: 0x0000000002032370b971dabd36d72f3e5a7bf1ee\n",
            "Total Transactions: 399\n",
            "\n",
            "Action Breakdown:\n",
            "  redeemunderlying: 130 txs\n",
            "  deposit: 250 txs\n",
            "  borrow: 15 txs\n",
            "  repay: 4 txs\n",
            "\n",
            "Estimated USD Value per Action:\n",
            "  redeemunderlying: $112,874,520,279,761,888.00\n",
            "  deposit: $206,577,330,842,852,352.00\n",
            "  borrow: $60,297,620,862,140,784.00\n",
            "  repay: $70,150.26\n",
            "\n",
            "First Activity: 2021-04-21 21:28:30 UTC\n",
            "Last Activity:  2021-09-01 18:15:24 UTC\n"
          ]
        }
      ]
    },
    {
      "cell_type": "code",
      "source": [
        "pip install xgboost\n"
      ],
      "metadata": {
        "colab": {
          "base_uri": "https://localhost:8080/"
        },
        "id": "caPDfW3RpcL6",
        "outputId": "0e76b42f-7c2a-4535-d8df-dd900976d6ff"
      },
      "execution_count": 6,
      "outputs": [
        {
          "output_type": "stream",
          "name": "stdout",
          "text": [
            "Requirement already satisfied: xgboost in /usr/local/lib/python3.11/dist-packages (3.0.2)\n",
            "Requirement already satisfied: numpy in /usr/local/lib/python3.11/dist-packages (from xgboost) (2.0.2)\n",
            "Requirement already satisfied: nvidia-nccl-cu12 in /usr/local/lib/python3.11/dist-packages (from xgboost) (2.21.5)\n",
            "Requirement already satisfied: scipy in /usr/local/lib/python3.11/dist-packages (from xgboost) (1.16.0)\n"
          ]
        }
      ]
    },
    {
      "cell_type": "code",
      "source": [
        "import pandas as pd\n",
        "import numpy as np\n",
        "from xgboost import XGBRegressor\n",
        "from sklearn.model_selection import train_test_split\n",
        "from sklearn.preprocessing import MinMaxScaler\n",
        "from sklearn.metrics import mean_absolute_error\n",
        "\n",
        "# Load wallet summary\n",
        "df = pd.read_csv(\"wallet_summary.csv\")\n",
        "\n",
        "# Fill missing values\n",
        "df.fillna({\n",
        "    'usd_repay': 0.0,\n",
        "    'usd_borrow': 0.0,\n",
        "    'usd_deposit': 0.0,\n",
        "    'usd_redeemunderlying': 0.0,\n",
        "    'action_repay': 0,\n",
        "    'action_borrow': 0,\n",
        "    'action_deposit': 0,\n",
        "    'action_redeemunderlying': 0,\n",
        "    'active_days': 0.0\n",
        "}, inplace=True)\n",
        "\n",
        "# Feature engineering\n",
        "df['repay_to_borrow'] = df['usd_repay'] / (df['usd_borrow'] + 1e-6)\n",
        "df['redeem_to_deposit'] = df['usd_redeemunderlying'] / (df['usd_deposit'] + 1e-6)\n",
        "\n",
        "df['repay_ratio'] = df['repay_to_borrow'].clip(0, 1)\n",
        "df['redeem_ratio'] = df['redeem_to_deposit'].clip(0, 1)\n",
        "\n",
        "# Count how many borrows are not repaid at all\n",
        "df['unrepaid_borrows'] = ((df['usd_borrow'] > 0) & (df['usd_repay'] < 1e-3)).astype(int)\n",
        "\n",
        "# Score formula\n",
        "df['credit_score'] = (\n",
        "    0.4 * (df['usd_deposit'] > 0).astype(float) +                  # reward depositors\n",
        "    0.2 * df['repay_ratio'] +                                     # reward repayment % if borrowed\n",
        "    0.15 * (df['active_days'] / 100).clip(0, 1) +                 # reward active wallets\n",
        "    0.1 * df['redeem_ratio'] -                                    # slight reward for redeem\n",
        "    0.1 * df['unrepaid_borrows'] -                                # penalize borrow with 0 repay\n",
        "    0.05 * ((df['usd_borrow'] > 0) & (df['repay_ratio'] < 0.5)).astype(float)  # partial repayment penalty\n",
        ") * 1000\n",
        "\n",
        "df['credit_score'] = df['credit_score'].clip(0, 1000)\n",
        "\n",
        "\n",
        "# Features and labels\n",
        "features = [\n",
        "    'num_transactions',\n",
        "    'action_deposit', 'action_borrow', 'action_repay', 'action_redeemunderlying',\n",
        "    'usd_deposit', 'usd_borrow', 'usd_repay', 'usd_redeemunderlying',\n",
        "    'repay_to_borrow', 'redeem_to_deposit', 'active_days'\n",
        "]\n",
        "\n",
        "scaler = MinMaxScaler()\n",
        "X = scaler.fit_transform(df[features])\n",
        "y = df['credit_score']\n",
        "\n",
        "# Train-test split\n",
        "X_train, X_test, y_train, y_test = train_test_split(X, y, test_size=0.2, random_state=42)\n",
        "\n",
        "# Train XGBoost model\n",
        "xgb_model = XGBRegressor(\n",
        "    n_estimators=300,\n",
        "    max_depth=8,\n",
        "    learning_rate=0.05,\n",
        "    subsample=0.9,\n",
        "    colsample_bytree=0.9,\n",
        "    random_state=42,\n",
        "    objective='reg:squarederror',\n",
        "    verbosity=1\n",
        ")\n",
        "\n",
        "xgb_model.fit(X_train, y_train)\n",
        "\n",
        "# Evaluate\n",
        "y_pred = xgb_model.predict(X_test)\n",
        "mae = mean_absolute_error(y_test, y_pred)\n",
        "print(f\"\\n XGBoost MAE (Mean Absolute Error): {mae:.4f}\")\n"
      ],
      "metadata": {
        "colab": {
          "base_uri": "https://localhost:8080/"
        },
        "id": "MHTo-TBPnfl2",
        "outputId": "09089dd3-5bd2-4f8d-ff4c-ece49669e167"
      },
      "execution_count": 7,
      "outputs": [
        {
          "output_type": "stream",
          "name": "stdout",
          "text": [
            "\n",
            " XGBoost MAE (Mean Absolute Error): 3.6542\n"
          ]
        }
      ]
    },
    {
      "cell_type": "code",
      "source": [
        "import random\n",
        "\n",
        "# Pick a random index from test set\n",
        "random_idx = random.randint(0, len(X_test) - 1)\n",
        "\n",
        "# Get corresponding original DataFrame index (from test set)\n",
        "test_indices = y_test.index.to_list()\n",
        "wallet_idx = test_indices[random_idx]\n",
        "\n",
        "# Extract the wallet details\n",
        "wallet_row = df.loc[wallet_idx]\n",
        "\n",
        "print(\"\\n Wallet Address:\", wallet_row['wallet_address'])\n",
        "print(\"Synthetic (True) Credit Score:\", round(wallet_row['credit_score'], 2))\n",
        "\n",
        "# Prepare the scaled feature row\n",
        "X_sample = X_test[random_idx].reshape(1, -1)\n",
        "predicted_score = xgb_model.predict(X_sample)[0]\n",
        "\n",
        "print(\"Predicted Score by XGBoost:\", round(predicted_score, 2))\n",
        "\n",
        "# Additional context\n",
        "print(\"\\nAction Breakdown:\")\n",
        "print(f\"  Deposits: {wallet_row['action_deposit']}\")\n",
        "print(f\"  Borrows: {wallet_row['action_borrow']}\")\n",
        "print(f\"  Repays: {wallet_row['action_repay']}\")\n",
        "print(f\"  Redeems: {wallet_row['action_redeemunderlying']}\")\n",
        "print(\"\\nUSD Activity:\")\n",
        "print(f\"  Deposit Value: ${wallet_row['usd_deposit']:,.2f}\")\n",
        "print(f\"  Borrow Value:  ${wallet_row['usd_borrow']:,.2f}\")\n",
        "print(f\"  Repay Value:   ${wallet_row['usd_repay']:,.2f}\")\n",
        "print(f\"  Redeem Value:  ${wallet_row['usd_redeemunderlying']:,.2f}\")\n"
      ],
      "metadata": {
        "colab": {
          "base_uri": "https://localhost:8080/"
        },
        "id": "8sX7ijCAqQS9",
        "outputId": "53620f40-6c5f-466c-cf68-a6315d52b9a7"
      },
      "execution_count": 8,
      "outputs": [
        {
          "output_type": "stream",
          "name": "stdout",
          "text": [
            "\n",
            " Wallet Address: 0x004af1171e5783d1223056a700e992b0eccf6191\n",
            "Synthetic (True) Credit Score: 400.0\n",
            "Predicted Score by XGBoost: 399.99\n",
            "\n",
            "Action Breakdown:\n",
            "  Deposits: 1\n",
            "  Borrows: 0\n",
            "  Repays: 0\n",
            "  Redeems: 0\n",
            "\n",
            "USD Activity:\n",
            "  Deposit Value: $54,810,936,012,301.06\n",
            "  Borrow Value:  $0.00\n",
            "  Repay Value:   $0.00\n",
            "  Redeem Value:  $0.00\n"
          ]
        }
      ]
    },
    {
      "cell_type": "code",
      "source": [
        "# Save wallet addresses and their corresponding scores\n",
        "score_df = df[['wallet_address', 'credit_score']].copy()\n",
        "score_df.to_csv(\"wallet_scores.csv\", index=False)\n",
        "print(\"Saved credit scores to wallet_scores.csv\")\n"
      ],
      "metadata": {
        "colab": {
          "base_uri": "https://localhost:8080/"
        },
        "id": "U18CLr7_X6Gp",
        "outputId": "51f2d0ae-412e-4e76-d19a-8306b3589ee3"
      },
      "execution_count": 9,
      "outputs": [
        {
          "output_type": "stream",
          "name": "stdout",
          "text": [
            "Saved credit scores to wallet_scores.csv\n"
          ]
        }
      ]
    },
    {
      "cell_type": "markdown",
      "source": [
        "FRONT UI USING GRADIO\n"
      ],
      "metadata": {
        "id": "P23zmy5MqA_E"
      }
    },
    {
      "cell_type": "code",
      "source": [
        "!pip install gradio xgboost scikit-learn pandas\n"
      ],
      "metadata": {
        "colab": {
          "base_uri": "https://localhost:8080/"
        },
        "id": "HFcLPxnVqG6t",
        "outputId": "b05cbf9f-9e83-4f5f-9cdc-1dd6fcc67d26"
      },
      "execution_count": 10,
      "outputs": [
        {
          "output_type": "stream",
          "name": "stdout",
          "text": [
            "Requirement already satisfied: gradio in /usr/local/lib/python3.11/dist-packages (5.38.1)\n",
            "Requirement already satisfied: xgboost in /usr/local/lib/python3.11/dist-packages (3.0.2)\n",
            "Requirement already satisfied: scikit-learn in /usr/local/lib/python3.11/dist-packages (1.6.1)\n",
            "Requirement already satisfied: pandas in /usr/local/lib/python3.11/dist-packages (2.2.2)\n",
            "Requirement already satisfied: aiofiles<25.0,>=22.0 in /usr/local/lib/python3.11/dist-packages (from gradio) (24.1.0)\n",
            "Requirement already satisfied: anyio<5.0,>=3.0 in /usr/local/lib/python3.11/dist-packages (from gradio) (4.9.0)\n",
            "Requirement already satisfied: brotli>=1.1.0 in /usr/local/lib/python3.11/dist-packages (from gradio) (1.1.0)\n",
            "Requirement already satisfied: fastapi<1.0,>=0.115.2 in /usr/local/lib/python3.11/dist-packages (from gradio) (0.116.1)\n",
            "Requirement already satisfied: ffmpy in /usr/local/lib/python3.11/dist-packages (from gradio) (0.6.1)\n",
            "Requirement already satisfied: gradio-client==1.11.0 in /usr/local/lib/python3.11/dist-packages (from gradio) (1.11.0)\n",
            "Requirement already satisfied: groovy~=0.1 in /usr/local/lib/python3.11/dist-packages (from gradio) (0.1.2)\n",
            "Requirement already satisfied: httpx<1.0,>=0.24.1 in /usr/local/lib/python3.11/dist-packages (from gradio) (0.28.1)\n",
            "Requirement already satisfied: huggingface-hub>=0.28.1 in /usr/local/lib/python3.11/dist-packages (from gradio) (0.33.4)\n",
            "Requirement already satisfied: jinja2<4.0 in /usr/local/lib/python3.11/dist-packages (from gradio) (3.1.6)\n",
            "Requirement already satisfied: markupsafe<4.0,>=2.0 in /usr/local/lib/python3.11/dist-packages (from gradio) (3.0.2)\n",
            "Requirement already satisfied: numpy<3.0,>=1.0 in /usr/local/lib/python3.11/dist-packages (from gradio) (2.0.2)\n",
            "Requirement already satisfied: orjson~=3.0 in /usr/local/lib/python3.11/dist-packages (from gradio) (3.11.0)\n",
            "Requirement already satisfied: packaging in /usr/local/lib/python3.11/dist-packages (from gradio) (25.0)\n",
            "Requirement already satisfied: pillow<12.0,>=8.0 in /usr/local/lib/python3.11/dist-packages (from gradio) (11.3.0)\n",
            "Requirement already satisfied: pydantic<2.12,>=2.0 in /usr/local/lib/python3.11/dist-packages (from gradio) (2.11.7)\n",
            "Requirement already satisfied: pydub in /usr/local/lib/python3.11/dist-packages (from gradio) (0.25.1)\n",
            "Requirement already satisfied: python-multipart>=0.0.18 in /usr/local/lib/python3.11/dist-packages (from gradio) (0.0.20)\n",
            "Requirement already satisfied: pyyaml<7.0,>=5.0 in /usr/local/lib/python3.11/dist-packages (from gradio) (6.0.2)\n",
            "Requirement already satisfied: ruff>=0.9.3 in /usr/local/lib/python3.11/dist-packages (from gradio) (0.12.4)\n",
            "Requirement already satisfied: safehttpx<0.2.0,>=0.1.6 in /usr/local/lib/python3.11/dist-packages (from gradio) (0.1.6)\n",
            "Requirement already satisfied: semantic-version~=2.0 in /usr/local/lib/python3.11/dist-packages (from gradio) (2.10.0)\n",
            "Requirement already satisfied: starlette<1.0,>=0.40.0 in /usr/local/lib/python3.11/dist-packages (from gradio) (0.47.2)\n",
            "Requirement already satisfied: tomlkit<0.14.0,>=0.12.0 in /usr/local/lib/python3.11/dist-packages (from gradio) (0.13.3)\n",
            "Requirement already satisfied: typer<1.0,>=0.12 in /usr/local/lib/python3.11/dist-packages (from gradio) (0.16.0)\n",
            "Requirement already satisfied: typing-extensions~=4.0 in /usr/local/lib/python3.11/dist-packages (from gradio) (4.14.1)\n",
            "Requirement already satisfied: uvicorn>=0.14.0 in /usr/local/lib/python3.11/dist-packages (from gradio) (0.35.0)\n",
            "Requirement already satisfied: fsspec in /usr/local/lib/python3.11/dist-packages (from gradio-client==1.11.0->gradio) (2025.3.0)\n",
            "Requirement already satisfied: websockets<16.0,>=10.0 in /usr/local/lib/python3.11/dist-packages (from gradio-client==1.11.0->gradio) (15.0.1)\n",
            "Requirement already satisfied: nvidia-nccl-cu12 in /usr/local/lib/python3.11/dist-packages (from xgboost) (2.21.5)\n",
            "Requirement already satisfied: scipy in /usr/local/lib/python3.11/dist-packages (from xgboost) (1.16.0)\n",
            "Requirement already satisfied: joblib>=1.2.0 in /usr/local/lib/python3.11/dist-packages (from scikit-learn) (1.5.1)\n",
            "Requirement already satisfied: threadpoolctl>=3.1.0 in /usr/local/lib/python3.11/dist-packages (from scikit-learn) (3.6.0)\n",
            "Requirement already satisfied: python-dateutil>=2.8.2 in /usr/local/lib/python3.11/dist-packages (from pandas) (2.9.0.post0)\n",
            "Requirement already satisfied: pytz>=2020.1 in /usr/local/lib/python3.11/dist-packages (from pandas) (2025.2)\n",
            "Requirement already satisfied: tzdata>=2022.7 in /usr/local/lib/python3.11/dist-packages (from pandas) (2025.2)\n",
            "Requirement already satisfied: idna>=2.8 in /usr/local/lib/python3.11/dist-packages (from anyio<5.0,>=3.0->gradio) (3.10)\n",
            "Requirement already satisfied: sniffio>=1.1 in /usr/local/lib/python3.11/dist-packages (from anyio<5.0,>=3.0->gradio) (1.3.1)\n",
            "Requirement already satisfied: certifi in /usr/local/lib/python3.11/dist-packages (from httpx<1.0,>=0.24.1->gradio) (2025.7.14)\n",
            "Requirement already satisfied: httpcore==1.* in /usr/local/lib/python3.11/dist-packages (from httpx<1.0,>=0.24.1->gradio) (1.0.9)\n",
            "Requirement already satisfied: h11>=0.16 in /usr/local/lib/python3.11/dist-packages (from httpcore==1.*->httpx<1.0,>=0.24.1->gradio) (0.16.0)\n",
            "Requirement already satisfied: filelock in /usr/local/lib/python3.11/dist-packages (from huggingface-hub>=0.28.1->gradio) (3.18.0)\n",
            "Requirement already satisfied: requests in /usr/local/lib/python3.11/dist-packages (from huggingface-hub>=0.28.1->gradio) (2.32.3)\n",
            "Requirement already satisfied: tqdm>=4.42.1 in /usr/local/lib/python3.11/dist-packages (from huggingface-hub>=0.28.1->gradio) (4.67.1)\n",
            "Requirement already satisfied: hf-xet<2.0.0,>=1.1.2 in /usr/local/lib/python3.11/dist-packages (from huggingface-hub>=0.28.1->gradio) (1.1.5)\n",
            "Requirement already satisfied: annotated-types>=0.6.0 in /usr/local/lib/python3.11/dist-packages (from pydantic<2.12,>=2.0->gradio) (0.7.0)\n",
            "Requirement already satisfied: pydantic-core==2.33.2 in /usr/local/lib/python3.11/dist-packages (from pydantic<2.12,>=2.0->gradio) (2.33.2)\n",
            "Requirement already satisfied: typing-inspection>=0.4.0 in /usr/local/lib/python3.11/dist-packages (from pydantic<2.12,>=2.0->gradio) (0.4.1)\n",
            "Requirement already satisfied: six>=1.5 in /usr/local/lib/python3.11/dist-packages (from python-dateutil>=2.8.2->pandas) (1.17.0)\n",
            "Requirement already satisfied: click>=8.0.0 in /usr/local/lib/python3.11/dist-packages (from typer<1.0,>=0.12->gradio) (8.2.1)\n",
            "Requirement already satisfied: shellingham>=1.3.0 in /usr/local/lib/python3.11/dist-packages (from typer<1.0,>=0.12->gradio) (1.5.4)\n",
            "Requirement already satisfied: rich>=10.11.0 in /usr/local/lib/python3.11/dist-packages (from typer<1.0,>=0.12->gradio) (13.9.4)\n",
            "Requirement already satisfied: markdown-it-py>=2.2.0 in /usr/local/lib/python3.11/dist-packages (from rich>=10.11.0->typer<1.0,>=0.12->gradio) (3.0.0)\n",
            "Requirement already satisfied: pygments<3.0.0,>=2.13.0 in /usr/local/lib/python3.11/dist-packages (from rich>=10.11.0->typer<1.0,>=0.12->gradio) (2.19.2)\n",
            "Requirement already satisfied: charset-normalizer<4,>=2 in /usr/local/lib/python3.11/dist-packages (from requests->huggingface-hub>=0.28.1->gradio) (3.4.2)\n",
            "Requirement already satisfied: urllib3<3,>=1.21.1 in /usr/local/lib/python3.11/dist-packages (from requests->huggingface-hub>=0.28.1->gradio) (2.5.0)\n",
            "Requirement already satisfied: mdurl~=0.1 in /usr/local/lib/python3.11/dist-packages (from markdown-it-py>=2.2.0->rich>=10.11.0->typer<1.0,>=0.12->gradio) (0.1.2)\n"
          ]
        }
      ]
    },
    {
      "cell_type": "code",
      "source": [
        "import gradio as gr\n",
        "import pandas as pd\n",
        "import numpy as np\n",
        "from xgboost import XGBRegressor\n",
        "from sklearn.preprocessing import MinMaxScaler\n",
        "\n",
        "# Load data\n",
        "df = pd.read_csv(\"wallet_summary.csv\")\n",
        "\n",
        "# Fill missing values\n",
        "df.fillna({\n",
        "    'usd_repay': 0.0,\n",
        "    'usd_borrow': 0.0,\n",
        "    'usd_deposit': 0.0,\n",
        "    'usd_redeemunderlying': 0.0,\n",
        "    'action_repay': 0,\n",
        "    'action_borrow': 0,\n",
        "    'action_deposit': 0,\n",
        "    'action_redeemunderlying': 0,\n",
        "    'active_days': 0.0\n",
        "}, inplace=True)\n",
        "\n",
        "# Feature engineering\n",
        "df['repay_to_borrow'] = df['usd_repay'] / (df['usd_borrow'] + 1e-6)\n",
        "df['redeem_to_deposit'] = df['usd_redeemunderlying'] / (df['usd_deposit'] + 1e-6)\n",
        "df['repay_ratio'] = df['repay_to_borrow'].clip(0, 1)\n",
        "df['redeem_ratio'] = df['redeem_to_deposit'].clip(0, 1)\n",
        "df['unrepaid_borrows'] = ((df['usd_borrow'] > 0) & (df['usd_repay'] < 1e-3)).astype(int)\n",
        "\n",
        "# Synthetic score\n",
        "df['credit_score'] = (\n",
        "    0.4 * (df['usd_deposit'] > 0).astype(float) +\n",
        "    0.2 * df['repay_ratio'] +\n",
        "    0.15 * (df['active_days'] / 100).clip(0, 1) +\n",
        "    0.1 * df['redeem_ratio'] -\n",
        "    0.1 * df['unrepaid_borrows'] -\n",
        "    0.05 * ((df['usd_borrow'] > 0) & (df['repay_ratio'] < 0.5)).astype(float)\n",
        ") * 1000\n",
        "df['credit_score'] = df['credit_score'].clip(0, 1000)\n",
        "\n",
        "# ML training\n",
        "features = [\n",
        "    'num_transactions',\n",
        "    'action_deposit', 'action_borrow', 'action_repay', 'action_redeemunderlying',\n",
        "    'usd_deposit', 'usd_borrow', 'usd_repay', 'usd_redeemunderlying',\n",
        "    'repay_to_borrow', 'redeem_to_deposit', 'active_days'\n",
        "]\n",
        "\n",
        "scaler = MinMaxScaler()\n",
        "X = scaler.fit_transform(df[features])\n",
        "y = df['credit_score']\n",
        "\n",
        "model = XGBRegressor()\n",
        "model.fit(X, y)\n",
        "\n",
        "# Prediction function\n",
        "def predict_score(wallet_address):\n",
        "    wallet_address = wallet_address.lower()\n",
        "    row = df[df['wallet_address'].str.lower() == wallet_address]\n",
        "\n",
        "    if row.empty:\n",
        "        return [\"Not Found\"] * 13\n",
        "\n",
        "    row = row.iloc[0]\n",
        "    X_input = scaler.transform([row[features]])\n",
        "    pred = model.predict(X_input)[0]\n",
        "\n",
        "    return [\n",
        "        round(row['credit_score'], 2),\n",
        "        round(pred, 2),\n",
        "        int(row['action_deposit']),\n",
        "        int(row['action_borrow']),\n",
        "        int(row['action_repay']),\n",
        "        int(row['action_redeemunderlying']),\n",
        "        f\"${row['usd_deposit']:,.2f}\",\n",
        "        f\"${row['usd_borrow']:,.2f}\",\n",
        "        f\"${row['usd_repay']:,.2f}\",\n",
        "        f\"${row['usd_redeemunderlying']:,.2f}\",\n",
        "        round(row['active_days'], 2),\n",
        "        row.get('first_seen', 'N/A'),\n",
        "        row.get('last_seen', 'N/A'),\n",
        "    ]\n",
        "\n",
        "# Gradio interface\n",
        "demo = gr.Interface(\n",
        "    fn=predict_score,\n",
        "    inputs=gr.Textbox(label=\"Enter Wallet Address\"),\n",
        "    outputs=[\n",
        "        gr.Textbox(label=\"Synthetic Score\"),\n",
        "        gr.Textbox(label=\"Predicted Score\"),\n",
        "        gr.Textbox(label=\"Deposits\"),\n",
        "        gr.Textbox(label=\"Borrows\"),\n",
        "        gr.Textbox(label=\"Repays\"),\n",
        "        gr.Textbox(label=\"Redeems\"),\n",
        "        gr.Textbox(label=\"USD Deposits\"),\n",
        "        gr.Textbox(label=\"USD Borrows\"),\n",
        "        gr.Textbox(label=\"USD Repays\"),\n",
        "        gr.Textbox(label=\"USD Redeems\"),\n",
        "        gr.Textbox(label=\"Active Days\"),\n",
        "        gr.Textbox(label=\"First Seen\"),\n",
        "        gr.Textbox(label=\"Last Seen\"),\n",
        "    ],\n",
        "    title=\"🧮 Wallet Credit Score Estimator\",\n",
        "    description=\"Enter a wallet address to estimate credit score based on on-chain activity\"\n",
        ")\n",
        "\n",
        "demo.launch()\n"
      ],
      "metadata": {
        "colab": {
          "base_uri": "https://localhost:8080/",
          "height": 648
        },
        "id": "qVnnrb8vqL0O",
        "outputId": "3bcac549-965e-4262-862a-615c0a1c31c4"
      },
      "execution_count": 11,
      "outputs": [
        {
          "output_type": "stream",
          "name": "stdout",
          "text": [
            "It looks like you are running Gradio on a hosted Jupyter notebook, which requires `share=True`. Automatically setting `share=True` (you can turn this off by setting `share=False` in `launch()` explicitly).\n",
            "\n",
            "Colab notebook detected. To show errors in colab notebook, set debug=True in launch()\n",
            "* Running on public URL: https://f3b2c055f19dc46a50.gradio.live\n",
            "\n",
            "This share link expires in 1 week. For free permanent hosting and GPU upgrades, run `gradio deploy` from the terminal in the working directory to deploy to Hugging Face Spaces (https://huggingface.co/spaces)\n"
          ]
        },
        {
          "output_type": "display_data",
          "data": {
            "text/plain": [
              "<IPython.core.display.HTML object>"
            ],
            "text/html": [
              "<div><iframe src=\"https://f3b2c055f19dc46a50.gradio.live\" width=\"100%\" height=\"500\" allow=\"autoplay; camera; microphone; clipboard-read; clipboard-write;\" frameborder=\"0\" allowfullscreen></iframe></div>"
            ]
          },
          "metadata": {}
        },
        {
          "output_type": "execute_result",
          "data": {
            "text/plain": []
          },
          "metadata": {},
          "execution_count": 11
        }
      ]
    }
  ]
}